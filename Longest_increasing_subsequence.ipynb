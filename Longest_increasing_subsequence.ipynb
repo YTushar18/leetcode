{
 "cells": [
  {
   "cell_type": "code",
   "execution_count": 6,
   "metadata": {},
   "outputs": [
    {
     "name": "stdout",
     "output_type": "stream",
     "text": [
      "[1, 1, 1, 1, 1, 1, 1, 1]\n"
     ]
    },
    {
     "data": {
      "text/plain": [
       "4"
      ]
     },
     "execution_count": 6,
     "metadata": {},
     "output_type": "execute_result"
    }
   ],
   "source": [
    "def lengthOfLIS(nums) -> int:\n",
    "\n",
    "    n = len(nums)\n",
    "\n",
    "    lis = [1]*n\n",
    "    print(lis)\n",
    "    \n",
    "    for i in range(1, n):\n",
    "        for j in range(0,i):\n",
    "            if nums[i]> nums[j]:\n",
    "                lis[i] = max(lis[i], lis[j]+1)\n",
    "            \n",
    "            # print(\"\\n\", lis)\n",
    "    \n",
    "    \n",
    "    \n",
    "    return lis[n-1]\n",
    "\n",
    "\n",
    "\n",
    "\n",
    "\n",
    "\n",
    "nums = [10,9,2,5,3,7,101,18]\n",
    "lengthOfLIS(nums)"
   ]
  },
  {
   "cell_type": "code",
   "execution_count": null,
   "metadata": {},
   "outputs": [],
   "source": []
  }
 ],
 "metadata": {
  "kernelspec": {
   "display_name": "Python 3",
   "language": "python",
   "name": "python3"
  },
  "language_info": {
   "codemirror_mode": {
    "name": "ipython",
    "version": 3
   },
   "file_extension": ".py",
   "mimetype": "text/x-python",
   "name": "python",
   "nbconvert_exporter": "python",
   "pygments_lexer": "ipython3",
   "version": "3.12.2"
  }
 },
 "nbformat": 4,
 "nbformat_minor": 2
}

{
 "cells": [
  {
   "cell_type": "code",
   "execution_count": null,
   "metadata": {},
   "outputs": [
    {
     "name": "stdout",
     "output_type": "stream",
     "text": [
      "5 3\n",
      "[0, 0, 0, 0]\n",
      "[0, 0, 0, 0]\n",
      "[0, 0, 0, 0]\n",
      "[0, 0, 0, 0]\n",
      "[0, 0, 0, 0]\n",
      "[0, 0, 0, 0]\n",
      "\n",
      "\n",
      "\n",
      "[0, 0, 0, 0]\n",
      "[0, 1, 1, 1]\n",
      "[0, 1, 1, 1]\n",
      "[0, 1, 2, 2]\n",
      "[0, 1, 2, 2]\n",
      "[0, 1, 2, 3]\n"
     ]
    },
    {
     "data": {
      "text/plain": [
       "3"
      ]
     },
     "execution_count": 23,
     "metadata": {},
     "output_type": "execute_result"
    }
   ],
   "source": [
    "def longestCommonSubsequence(text1, text2):\n",
    "\n",
    "    # Get the lengths of both input strings\n",
    "    len_text1, len_text2 = len(text1), len(text2)\n",
    "    print(len_text1, len_text2 )\n",
    "    # Initialize a 2D array (list of lists) with zeros for dynamic programming\n",
    "    # The array has (len_text1 + 1) rows and (len_text2 + 1) columns\n",
    "    dp_matrix = [[0] * (len_text2 + 1) for _ in range(len_text1 + 1)]\n",
    "\n",
    "\n",
    "    for x in dp_matrix:\n",
    "        print(x)\n",
    "\n",
    "    # Loop through each character index of text1 and text2\n",
    "    for i in range(1, len_text1 + 1):\n",
    "        for j in range(1, len_text2 + 1):\n",
    "            # If the characters match, take the diagonal value and add 1\n",
    "            if text1[i - 1] == text2[j - 1]:\n",
    "                dp_matrix[i][j] = dp_matrix[i - 1][j - 1] + 1\n",
    "            else:\n",
    "                # If the characters do not match, take the maximum of the value from the left and above\n",
    "                dp_matrix[i][j] = max(dp_matrix[i - 1][j], dp_matrix[i][j - 1])\n",
    "    print(\"\\n\\n\")\n",
    "    for x in dp_matrix:\n",
    "        print(x)\n",
    "\n",
    "\n",
    "    # The bottom-right value in the matrix contains the length of the longest common subsequence\n",
    "    return dp_matrix[len_text1][len_text2]\n",
    "\n",
    "text1 = \"abcde\"\n",
    "text2 = \"ace\" \n",
    "longestCommonSubsequence(text1=text1, text2=text2)\n"
   ]
  },
  {
   "cell_type": "code",
   "execution_count": null,
   "metadata": {},
   "outputs": [
    {
     "data": {
      "text/plain": [
       "0"
      ]
     },
     "execution_count": 7,
     "metadata": {},
     "output_type": "execute_result"
    }
   ],
   "source": []
  },
  {
   "cell_type": "code",
   "execution_count": null,
   "metadata": {},
   "outputs": [],
   "source": []
  }
 ],
 "metadata": {
  "kernelspec": {
   "display_name": "Python 3",
   "language": "python",
   "name": "python3"
  },
  "language_info": {
   "codemirror_mode": {
    "name": "ipython",
    "version": 3
   },
   "file_extension": ".py",
   "mimetype": "text/x-python",
   "name": "python",
   "nbconvert_exporter": "python",
   "pygments_lexer": "ipython3",
   "version": "3.12.2"
  }
 },
 "nbformat": 4,
 "nbformat_minor": 2
}
